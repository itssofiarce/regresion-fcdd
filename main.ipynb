{
  "nbformat": 4,
  "nbformat_minor": 0,
  "metadata": {
    "colab": {
      "provenance": [],
      "authorship_tag": "ABX9TyPvZR0BjFiQV+ixzLl6dEO4",
      "include_colab_link": true
    },
    "kernelspec": {
      "name": "python3",
      "display_name": "Python 3"
    },
    "language_info": {
      "name": "python"
    }
  },
  "cells": [
    {
      "cell_type": "markdown",
      "metadata": {
        "id": "view-in-github",
        "colab_type": "text"
      },
      "source": [
        "<a href=\"https://colab.research.google.com/github/itssofiarce/regresion-fcdd/blob/sofi/main.ipynb\" target=\"_parent\"><img src=\"https://colab.research.google.com/assets/colab-badge.svg\" alt=\"Open In Colab\"/></a>"
      ]
    },
    {
      "cell_type": "code",
      "execution_count": null,
      "metadata": {
        "id": "88UXP7xKq62l"
      },
      "outputs": [],
      "source": []
    },
    {
      "cell_type": "markdown",
      "source": [
        "# DataSet Elegido: Base de datos de graduados universitarios\n",
        "\n",
        "Fuente: https://www.datos.gob.ar/dataset/produccion-graduados-universitarios-sistema-araucano-2016-2018/archivo/produccion_afbfc04e-6130-448c-953f-ef601f3e8bda\n",
        "\n",
        "El dataset se encuentra publicado en la página del gobierno nacional, es de libre acceso. Las entidades responsables son Ministerio de Desarrollo Productivo. Unidad Gabinete de Asesores. Dirección Nacional de Estudios para la Producción (CEP XXI).\n",
        "\n",
        "Los datos contienen información acerca de los graduados universitarios recolectados desde el 2019 al 2021. Todas las variables ya estan codificadas numericamente.\n",
        "\n",
        "\n",
        "\n",
        "\n"
      ],
      "metadata": {
        "id": "Ijh5o-k82qqo"
      }
    }
  ]
}