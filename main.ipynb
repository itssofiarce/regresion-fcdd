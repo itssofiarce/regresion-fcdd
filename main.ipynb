{
  "nbformat": 4,
  "nbformat_minor": 0,
  "metadata": {
    "colab": {
      "provenance": [],
      "authorship_tag": "ABX9TyMWTk8+FsOpBjufCXwnviIL",
      "include_colab_link": true
    },
    "kernelspec": {
      "name": "python3",
      "display_name": "Python 3"
    },
    "language_info": {
      "name": "python"
    }
  },
  "cells": [
    {
      "cell_type": "markdown",
      "metadata": {
        "id": "view-in-github",
        "colab_type": "text"
      },
      "source": [
        "<a href=\"https://colab.research.google.com/github/itssofiarce/regresion-fcdd/blob/main/main.ipynb\" target=\"_parent\"><img src=\"https://colab.research.google.com/assets/colab-badge.svg\" alt=\"Open In Colab\"/></a>"
      ]
    },
    {
      "cell_type": "code",
      "execution_count": null,
      "metadata": {
        "id": "88UXP7xKq62l"
      },
      "outputs": [],
      "source": []
    },
    {
      "cell_type": "markdown",
      "source": [
        "# DataSet Elegido: Base de datos de graduados universitarios\n",
        "\n",
        "Fuente: https://www.datos.gob.ar/dataset/produccion-graduados-universitarios-sistema-araucano-2016-2018/archivo/produccion_afbfc04e-6130-448c-953f-ef601f3e8bda\n",
        "\n",
        "El dataset se encuentra publicado en la página del gobierno nacional, es de libre acceso. Las entidades responsables son Ministerio de Desarrollo Productivo. Unidad Gabinete de Asesores. Dirección Nacional de Estudios para la Producción (CEP XXI).\n",
        "\n",
        "Los datos contienen información acerca de los graduados universitarios recolectados desde el 2019 al 2021. Todas las variables ya estan codificadas numericamente.\n",
        "\n",
        "\n",
        "\n",
        "\n"
      ],
      "metadata": {
        "id": "Ijh5o-k82qqo"
      }
    },
    {
      "cell_type": "markdown",
      "source": [
        "| Título de la columna      | Tipo de dato | Descripción |\n",
        "| ------------------------- | ------------ | ----------- |\n",
        "| id                    | Número entero (integer)    | Identificador individual.        |\n",
        "| rama_id                    | Número entero (integer)    | Identificador de la rama de estudio       |\n",
        "| disciplina_id                    | Número entero (integer)    | Identificador de disciplina de estudio.       |\n",
        "| tipo_titulo_id                    | Número entero (integer)    | Identificador de jerarquía de título.       |\n",
        "| gestion_id                    | Número entero (integer)    | Identificador del tipo de gestión del establecimiento educativo donde se cursaron los estudios.        |\n",
        "| genero_id                    | Número entero (integer)    | Identificador de género.       |\n",
        "| region_id                    | Número entero (integer)    | Identificador de la región geográfica donde se cursaron los estudios.       |\n",
        "| tamaño_id                    | Número entero (integer)    | Identificador del tamaño de la firma donde trabajó el/la gradudado/a, según corresponda.       |\n",
        "| letra_id                    | Número entero (integer)    | Identificador del sector productivo donde la firma se desempeña.        |\n",
        "| salario                    | Número decimal (decimal)    | Remuneración total por todo concepto, en pesos corrientes.       |\n",
        "| anio                    | Número entero (integer)    | Año de observación.       |\n",
        "| anioegreso                    | Número entero (integer)    | Año de finalización de los estudios.       |\n",
        "| anioac                    | Número entero (integer)    | Año de nacimiento de la persona graduada.       |"
      ],
      "metadata": {
        "id": "PJ5CyzdvWTUX"
      }
    },
    {
      "cell_type": "markdown",
      "source": [],
      "metadata": {
        "id": "z0zJV1I0Wt61"
      }
    }
  ]
}